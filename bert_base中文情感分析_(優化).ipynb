{
  "cells": [
    {
      "cell_type": "code",
      "execution_count": 3,
      "id": "0c5c3899",
      "metadata": {
        "id": "0c5c3899",
        "scrolled": false
      },
      "outputs": [],
      "source": [
        "import os\n",
        "import numpy as np\n",
        "import time\n",
        "import random\n",
        "import matplotlib\n",
        "import pandas as pd\n",
        "import torch\n",
        "import torch.optim as optim\n",
        "import json\n",
        "from torch.utils.data import Dataset, DataLoader, TensorDataset\n",
        "import torch.nn as nn\n",
        "import torch.nn.functional as F\n",
        "from transformers import AutoTokenizer, BertModel, BertTokenizer, BertForSequenceClassification, BertConfig, AdamW, get_linear_schedule_with_warmup\n",
        "\n"
      ]
    },
    {
      "cell_type": "code",
      "execution_count": 11,
      "id": "ca4ef3c7",
      "metadata": {
        "id": "ca4ef3c7"
      },
      "outputs": [],
      "source": [
        "\n",
        "num_labels = 3\n",
        "tokenizer = AutoTokenizer.from_pretrained(\"bert-base-chinese\")\n",
        "max_length = 20\n",
        "bs = 32\n",
        "epochs = 2\n"
      ]
    },
    {
      "cell_type": "code",
      "source": [
        "\n",
        "# 初始化BERT的分词器\n",
        "tokenizer = BertTokenizer.from_pretrained('bert-base-chinese')\n",
        "\n",
        "def load_dataset(filepath, max_len):\n",
        "    labels = []\n",
        "    sentences = []\n",
        "\n",
        "    # 读取txt文件\n",
        "    with open(filepath, 'r', encoding='utf-8') as f:\n",
        "        for line in f:\n",
        "            # 去掉行末尾的换行符并用逗号分割\n",
        "            line = line.strip()\n",
        "            if ',' not in line:\n",
        "                continue  # 如果没有逗号，跳过\n",
        "            label, sentence = line.split(',', 1)\n",
        "\n",
        "            # 将标签和句子添加到相应的列表\n",
        "            labels.append(int(label))\n",
        "            sentences.append(sentence)\n",
        "\n",
        "    input_ids = []\n",
        "    attention_masks = []\n",
        "\n",
        "    # 对每个句子进行编码\n",
        "    for data in sentences:\n",
        "        encoded_data = tokenizer.encode_plus(\n",
        "            text=data,                      # 句子\n",
        "            add_special_tokens=True,        # 添加特殊标记，如[CLS]和[SEP]\n",
        "            max_length=max_len,             # 截断或填充到最大长度\n",
        "            padding='max_length',           # 填充到max_length\n",
        "            return_attention_mask=True,     # 返回attention mask\n",
        "            truncation=True                 # 截断长句子\n",
        "        )\n",
        "\n",
        "        # 将编码后的数据添加到列表中\n",
        "        input_ids.append(encoded_data.get('input_ids'))\n",
        "        attention_masks.append(encoded_data.get('attention_mask'))\n",
        "\n",
        "    # 将列表转换为tensor\n",
        "    input_ids = torch.tensor(input_ids)\n",
        "    attention_masks = torch.tensor(attention_masks)\n",
        "    labels = torch.tensor(labels)\n",
        "\n",
        "    return input_ids, attention_masks, labels\n"
      ],
      "metadata": {
        "id": "E5c2RAD3keB5"
      },
      "id": "E5c2RAD3keB5",
      "execution_count": 9,
      "outputs": []
    },
    {
      "cell_type": "code",
      "execution_count": 15,
      "id": "a0adb27b",
      "metadata": {
        "id": "a0adb27b",
        "scrolled": true
      },
      "outputs": [],
      "source": [
        "train_dataset = load_dataset('dataset_new.txt', max_len = max_length)\n",
        "valid_dataset = load_dataset('dataset_test.txt', max_len = max_length)\n",
        "\n",
        "train_data = TensorDataset(train_dataset[0], train_dataset[1],train_dataset[2])\n",
        "train_loader = DataLoader(train_data, shuffle=True, batch_size = bs)\n",
        "\n",
        "val_data = TensorDataset(valid_dataset[0],valid_dataset[1],valid_dataset[2])\n",
        "val_loader = DataLoader(val_data,shuffle=True, batch_size = bs)"
      ]
    },
    {
      "cell_type": "code",
      "execution_count": 16,
      "id": "XSut6shER8Bv",
      "metadata": {
        "colab": {
          "base_uri": "https://localhost:8080/",
          "height": 173,
          "referenced_widgets": [
            "d7318f8ad9aa4343bcd6ac19d4ff7d8a",
            "f3e1d4bc72c0488fa8e8a1b9ee09ec90",
            "55b1f872c08344078ec8e2be5a153430",
            "b250381f0dc94364b436deed11729405",
            "1d60a19e8c1e42ee96d0a0a298cfb762",
            "f10ae23855dd4c5895ffe5b0b5ac5eb0",
            "c0b1c8caceef429a8dce16a66f2c4e5e",
            "db734a67b20e40d983904b019632412a",
            "860c55ed7fc64d7ab61d65075e8c21ca",
            "3dd2ef9e087f4140b2d3c9e1efc0a7ad",
            "fc598525273b4b56ac6a0076f3f077d1"
          ]
        },
        "id": "XSut6shER8Bv",
        "outputId": "d224d65d-ac3a-4134-f833-3cc6a3d1d0ec"
      },
      "outputs": [
        {
          "output_type": "display_data",
          "data": {
            "text/plain": [
              "model.safetensors:   0%|          | 0.00/412M [00:00<?, ?B/s]"
            ],
            "application/vnd.jupyter.widget-view+json": {
              "version_major": 2,
              "version_minor": 0,
              "model_id": "d7318f8ad9aa4343bcd6ac19d4ff7d8a"
            }
          },
          "metadata": {}
        },
        {
          "output_type": "stream",
          "name": "stderr",
          "text": [
            "Some weights of BertForSequenceClassification were not initialized from the model checkpoint at bert-base-chinese and are newly initialized: ['classifier.bias', 'classifier.weight']\n",
            "You should probably TRAIN this model on a down-stream task to be able to use it for predictions and inference.\n",
            "/usr/local/lib/python3.10/dist-packages/transformers/optimization.py:591: FutureWarning: This implementation of AdamW is deprecated and will be removed in a future version. Use the PyTorch implementation torch.optim.AdamW instead, or set `no_deprecation_warning=True` to disable this warning\n",
            "  warnings.warn(\n"
          ]
        },
        {
          "output_type": "stream",
          "name": "stdout",
          "text": [
            "Epoch 1 completed\n",
            "Epoch 2 completed\n"
          ]
        }
      ],
      "source": [
        "# 加载 BERT 模型并准备优化器和学习率调度器\n",
        "model = BertForSequenceClassification.from_pretrained(\"bert-base-chinese\", num_labels=num_labels)\n",
        "device = torch.device(\"cuda\" if torch.cuda.is_available() else \"cpu\")\n",
        "model.to(device)\n",
        "\n",
        "optimizer = AdamW(model.parameters(), lr=2e-5)\n",
        "total_steps = len(train_loader) * epochs\n",
        "scheduler = get_linear_schedule_with_warmup(optimizer, num_warmup_steps=0, num_training_steps=total_steps)\n",
        "\n",
        "# 微调模型\n",
        "for epoch in range(epochs):\n",
        "    model.train()\n",
        "    for batch in train_loader:\n",
        "        optimizer.zero_grad()\n",
        "        input_ids = batch[0].squeeze().to(device)\n",
        "        attention_mask = batch[1].squeeze().to(device)\n",
        "        labels = batch[2].to(device)\n",
        "\n",
        "        outputs = model(input_ids, attention_mask=attention_mask, labels=labels)\n",
        "        loss = outputs.loss\n",
        "        loss.backward()\n",
        "\n",
        "        optimizer.step()\n",
        "        scheduler.step()\n",
        "\n",
        "    print(\"Epoch\", epoch + 1, \"completed\")\n",
        "\n"
      ]
    },
    {
      "cell_type": "code",
      "execution_count": 17,
      "id": "StnIvp7_S_v8",
      "metadata": {
        "colab": {
          "base_uri": "https://localhost:8080/"
        },
        "id": "StnIvp7_S_v8",
        "outputId": "01213997-efb1-406a-9722-17bc231c6aeb"
      },
      "outputs": [
        {
          "output_type": "stream",
          "name": "stdout",
          "text": [
            "Val Loss: 0.014799 | Val Acc: 0.99\n"
          ]
        }
      ],
      "source": [
        "def evaluate(model, val_loader):\n",
        "    model.eval()\n",
        "    val_loss = 0\n",
        "    val_accuracy = 0\n",
        "    with torch.no_grad():\n",
        "        for batch in val_loader:\n",
        "            input_ids = batch[0].squeeze().to(device)\n",
        "            attention_mask = batch[1].squeeze().to(device)\n",
        "            labels = batch[2].to(device)\n",
        "\n",
        "            outputs = model(input_ids, attention_mask=attention_mask, labels=labels)\n",
        "            loss = outputs.loss\n",
        "            logits = outputs.logits\n",
        "\n",
        "            val_loss += loss.item()\n",
        "            preds = torch.argmax(logits, dim=1).flatten()\n",
        "            val_accuracy += (preds == labels).cpu().numpy().mean()\n",
        "\n",
        "    return val_loss / len(val_loader), val_accuracy / len(val_loader)\n",
        "\n",
        "val_loss, val_accuracy = evaluate(model, val_loader)\n",
        "print(f\"Val Loss: {val_loss:.6f} | Val Acc: {val_accuracy:.2f}\")"
      ]
    },
    {
      "cell_type": "code",
      "execution_count": 20,
      "id": "37e2c042",
      "metadata": {
        "id": "37e2c042",
        "colab": {
          "base_uri": "https://localhost:8080/"
        },
        "outputId": "380c94a5-9511-4130-97c1-74dc9581f20d"
      },
      "outputs": [
        {
          "output_type": "stream",
          "name": "stdout",
          "text": [
            "开始测试...\n"
          ]
        }
      ],
      "source": [
        "torch.save(model.state_dict(), 'bert_base.ckpt')\n",
        "\n",
        "print('开始测试...')\n",
        "model.eval()\n",
        "test_result = []\n",
        "for input_ids, attention_mask, labels in zip(valid_dataset[0], valid_dataset[1], valid_dataset[2]):\n",
        "    b_input_ids = input_ids.unsqueeze(0).to(device)\n",
        "    b_attn_mask = attention_mask.unsqueeze(0).to(device)\n",
        "    b_labels = labels.unsqueeze(0).to(device)\n",
        "\n",
        "    with torch.no_grad():\n",
        "        outputs = model(b_input_ids, attention_mask=b_attn_mask)\n",
        "        pre = outputs.logits.argmax(dim=1)\n",
        "        tokens = [tokenizer.convert_ids_to_tokens(id.item()) for id in b_input_ids[0]]\n",
        "        test_result.append([b_labels.item(), pre.item(), tokens])\n",
        "       #b_labels.item()：获取真实标签的值。pre.item()：获取模型预测的值。tokenizer.convert_ids_to_tokens(b_input_ids)：将输入的 token IDs 转换回原始文本形\n",
        "# 写入csv文件\n",
        "df = pd.DataFrame(test_result)\n",
        "df.to_csv('test_result.csv',index=False, header=['real', 'predict','text'])"
      ]
    },
    {
      "cell_type": "code",
      "source": [
        "df = pd.read_csv('test_result.csv')\n",
        "print(df)"
      ],
      "metadata": {
        "colab": {
          "base_uri": "https://localhost:8080/"
        },
        "id": "1rPAX5ob6Dz-",
        "outputId": "a9baded5-e7f4-49c1-97a1-bd85183eed25"
      },
      "id": "1rPAX5ob6Dz-",
      "execution_count": 21,
      "outputs": [
        {
          "output_type": "stream",
          "name": "stdout",
          "text": [
            "     real  predict                                               text\n",
            "0       1        1  ['[CLS]', '好', '吧', '移', '动', '年', '优', '惠', '...\n",
            "1       1        1  ['[CLS]', '好', '听', '歌', '曲', '名', '单', '[SEP]...\n",
            "2       1        1  ['[CLS]', '常', '州', '市', '贸', '中', '心', '干', '...\n",
            "3       0        0  ['[CLS]', '无', '聊', '时', '候', '还', '可', '以', '...\n",
            "4       0        0  ['[CLS]', '就', '想', '知', '道', '怎', '么', '那', '...\n",
            "..    ...      ...                                                ...\n",
            "119     1        1  ['[CLS]', '里', '面', '阿', '狸', '可', '爱', '[SEP]...\n",
            "120     0        0  ['[CLS]', '没', '用', '系', '统', '设', '置', '[SEP]...\n",
            "121     1        1  ['[CLS]', '可', '爱', '自', '恋', '吧', '好', '困', '...\n",
            "122     1        1  ['[CLS]', '通', '知', '求', '主', '动', '活', '跃', '...\n",
            "123     0        0  ['[CLS]', '我', '试', '着', '那', '样', '做', '可', '...\n",
            "\n",
            "[124 rows x 3 columns]\n"
          ]
        }
      ]
    }
  ],
  "metadata": {
    "accelerator": "GPU",
    "colab": {
      "gpuType": "T4",
      "provenance": []
    },
    "kernelspec": {
      "display_name": "Python 3",
      "name": "python3"
    },
    "language_info": {
      "codemirror_mode": {
        "name": "ipython",
        "version": 3
      },
      "file_extension": ".py",
      "mimetype": "text/x-python",
      "name": "python",
      "nbconvert_exporter": "python",
      "pygments_lexer": "ipython3",
      "version": "3.9.13"
    },
   
        "f3e1d4bc72c0488fa8e8a1b9ee09ec90": {
          "model_module": "@jupyter-widgets/controls",
          "model_name": "HTMLModel",
          "model_module_version": "1.5.0",
          "state": {
            "_dom_classes": [],
            "_model_module": "@jupyter-widgets/controls",
            "_model_module_version": "1.5.0",
            "_model_name": "HTMLModel",
            "_view_count": null,
            "_view_module": "@jupyter-widgets/controls",
            "_view_module_version": "1.5.0",
            "_view_name": "HTMLView",
            "description": "",
            "description_tooltip": null,
            "layout": "IPY_MODEL_f10ae23855dd4c5895ffe5b0b5ac5eb0",
            "placeholder": "​",
            "style": "IPY_MODEL_c0b1c8caceef429a8dce16a66f2c4e5e",
            "value": "model.safetensors: 100%"
          }
        },
        "55b1f872c08344078ec8e2be5a153430": {
          "model_module": "@jupyter-widgets/controls",
          "model_name": "FloatProgressModel",
          "model_module_version": "1.5.0",
          "state": {
            "_dom_classes": [],
            "_model_module": "@jupyter-widgets/controls",
            "_model_module_version": "1.5.0",
            "_model_name": "FloatProgressModel",
            "_view_count": null,
            "_view_module": "@jupyter-widgets/controls",
            "_view_module_version": "1.5.0",
            "_view_name": "ProgressView",
            "bar_style": "success",
            "description": "",
            "description_tooltip": null,
            "layout": "IPY_MODEL_db734a67b20e40d983904b019632412a",
            "max": 411553788,
            "min": 0,
            "orientation": "horizontal",
            "style": "IPY_MODEL_860c55ed7fc64d7ab61d65075e8c21ca",
            "value": 411553788
          }
        },
        "b250381f0dc94364b436deed11729405": {
          "model_module": "@jupyter-widgets/controls",
          "model_name": "HTMLModel",
          "model_module_version": "1.5.0",
          "state": {
            "_dom_classes": [],
            "_model_module": "@jupyter-widgets/controls",
            "_model_module_version": "1.5.0",
            "_model_name": "HTMLModel",
            "_view_count": null,
            "_view_module": "@jupyter-widgets/controls",
            "_view_module_version": "1.5.0",
            "_view_name": "HTMLView",
            "description": "",
            "description_tooltip": null,
            "layout": "IPY_MODEL_3dd2ef9e087f4140b2d3c9e1efc0a7ad",
            "placeholder": "​",
            "style": "IPY_MODEL_fc598525273b4b56ac6a0076f3f077d1",
            "value": " 412M/412M [00:02&lt;00:00, 148MB/s]"
          }
        },
        "1d60a19e8c1e42ee96d0a0a298cfb762": {
          "model_module": "@jupyter-widgets/base",
          "model_name": "LayoutModel",
          "model_module_version": "1.2.0",
          "state": {
            "_model_module": "@jupyter-widgets/base",
            "_model_module_version": "1.2.0",
            "_model_name": "LayoutModel",
            "_view_count": null,
            "_view_module": "@jupyter-widgets/base",
            "_view_module_version": "1.2.0",
            "_view_name": "LayoutView",
            "align_content": null,
            "align_items": null,
            "align_self": null,
            "border": null,
            "bottom": null,
            "display": null,
            "flex": null,
            "flex_flow": null,
            "grid_area": null,
            "grid_auto_columns": null,
            "grid_auto_flow": null,
            "grid_auto_rows": null,
            "grid_column": null,
            "grid_gap": null,
            "grid_row": null,
            "grid_template_areas": null,
            "grid_template_columns": null,
            "grid_template_rows": null,
            "height": null,
            "justify_content": null,
            "justify_items": null,
            "left": null,
            "margin": null,
            "max_height": null,
            "max_width": null,
            "min_height": null,
            "min_width": null,
            "object_fit": null,
            "object_position": null,
            "order": null,
            "overflow": null,
            "overflow_x": null,
            "overflow_y": null,
            "padding": null,
            "right": null,
            "top": null,
            "visibility": null,
            "width": null
          }
        },
        "f10ae23855dd4c5895ffe5b0b5ac5eb0": {
          "model_module": "@jupyter-widgets/base",
          "model_name": "LayoutModel",
          "model_module_version": "1.2.0",
          "state": {
            "_model_module": "@jupyter-widgets/base",
            "_model_module_version": "1.2.0",
            "_model_name": "LayoutModel",
            "_view_count": null,
            "_view_module": "@jupyter-widgets/base",
            "_view_module_version": "1.2.0",
            "_view_name": "LayoutView",
            "align_content": null,
            "align_items": null,
            "align_self": null,
            "border": null,
            "bottom": null,
            "display": null,
            "flex": null,
            "flex_flow": null,
            "grid_area": null,
            "grid_auto_columns": null,
            "grid_auto_flow": null,
            "grid_auto_rows": null,
            "grid_column": null,
            "grid_gap": null,
            "grid_row": null,
            "grid_template_areas": null,
            "grid_template_columns": null,
            "grid_template_rows": null,
            "height": null,
            "justify_content": null,
            "justify_items": null,
            "left": null,
            "margin": null,
            "max_height": null,
            "max_width": null,
            "min_height": null,
            "min_width": null,
            "object_fit": null,
            "object_position": null,
            "order": null,
            "overflow": null,
            "overflow_x": null,
            "overflow_y": null,
            "padding": null,
            "right": null,
            "top": null,
            "visibility": null,
            "width": null
          }
        },
        "c0b1c8caceef429a8dce16a66f2c4e5e": {
          "model_module": "@jupyter-widgets/controls",
          "model_name": "DescriptionStyleModel",
          "model_module_version": "1.5.0",
          "state": {
            "_model_module": "@jupyter-widgets/controls",
            "_model_module_version": "1.5.0",
            "_model_name": "DescriptionStyleModel",
            "_view_count": null,
            "_view_module": "@jupyter-widgets/base",
            "_view_module_version": "1.2.0",
            "_view_name": "StyleView",
            "description_width": ""
          }
        },
        "db734a67b20e40d983904b019632412a": {
          "model_module": "@jupyter-widgets/base",
          "model_name": "LayoutModel",
          "model_module_version": "1.2.0",
          "state": {
            "_model_module": "@jupyter-widgets/base",
            "_model_module_version": "1.2.0",
            "_model_name": "LayoutModel",
            "_view_count": null,
            "_view_module": "@jupyter-widgets/base",
            "_view_module_version": "1.2.0",
            "_view_name": "LayoutView",
            "align_content": null,
            "align_items": null,
            "align_self": null,
            "border": null,
            "bottom": null,
            "display": null,
            "flex": null,
            "flex_flow": null,
            "grid_area": null,
            "grid_auto_columns": null,
            "grid_auto_flow": null,
            "grid_auto_rows": null,
            "grid_column": null,
            "grid_gap": null,
            "grid_row": null,
            "grid_template_areas": null,
            "grid_template_columns": null,
            "grid_template_rows": null,
            "height": null,
            "justify_content": null,
            "justify_items": null,
            "left": null,
            "margin": null,
            "max_height": null,
            "max_width": null,
            "min_height": null,
            "min_width": null,
            "object_fit": null,
            "object_position": null,
            "order": null,
            "overflow": null,
            "overflow_x": null,
            "overflow_y": null,
            "padding": null,
            "right": null,
            "top": null,
            "visibility": null,
            "width": null
          }
        },
        "860c55ed7fc64d7ab61d65075e8c21ca": {
          "model_module": "@jupyter-widgets/controls",
          "model_name": "ProgressStyleModel",
          "model_module_version": "1.5.0",
          "state": {
            "_model_module": "@jupyter-widgets/controls",
            "_model_module_version": "1.5.0",
            "_model_name": "ProgressStyleModel",
            "_view_count": null,
            "_view_module": "@jupyter-widgets/base",
            "_view_module_version": "1.2.0",
            "_view_name": "StyleView",
            "bar_color": null,
            "description_width": ""
          }
        },
        "3dd2ef9e087f4140b2d3c9e1efc0a7ad": {
          "model_module": "@jupyter-widgets/base",
          "model_name": "LayoutModel",
          "model_module_version": "1.2.0",
          "state": {
            "_model_module": "@jupyter-widgets/base",
            "_model_module_version": "1.2.0",
            "_model_name": "LayoutModel",
            "_view_count": null,
            "_view_module": "@jupyter-widgets/base",
            "_view_module_version": "1.2.0",
            "_view_name": "LayoutView",
            "align_content": null,
            "align_items": null,
            "align_self": null,
            "border": null,
            "bottom": null,
            "display": null,
            "flex": null,
            "flex_flow": null,
            "grid_area": null,
            "grid_auto_columns": null,
            "grid_auto_flow": null,
            "grid_auto_rows": null,
            "grid_column": null,
            "grid_gap": null,
            "grid_row": null,
            "grid_template_areas": null,
            "grid_template_columns": null,
            "grid_template_rows": null,
            "height": null,
            "justify_content": null,
            "justify_items": null,
            "left": null,
            "margin": null,
            "max_height": null,
            "max_width": null,
            "min_height": null,
            "min_width": null,
            "object_fit": null,
            "object_position": null,
            "order": null,
            "overflow": null,
            "overflow_x": null,
            "overflow_y": null,
            "padding": null,
            "right": null,
            "top": null,
            "visibility": null,
            "width": null
          }
        },
        "fc598525273b4b56ac6a0076f3f077d1": {
          "model_module": "@jupyter-widgets/controls",
          "model_name": "DescriptionStyleModel",
          "model_module_version": "1.5.0",
          "state": {
            "_model_module": "@jupyter-widgets/controls",
            "_model_module_version": "1.5.0",
            "_model_name": "DescriptionStyleModel",
            "_view_count": null,
            "_view_module": "@jupyter-widgets/base",
            "_view_module_version": "1.2.0",
            "_view_name": "StyleView",
            "description_width": ""
          }
        }
      }
    }
  },
  "nbformat": 4,
  "nbformat_minor": 5
}
